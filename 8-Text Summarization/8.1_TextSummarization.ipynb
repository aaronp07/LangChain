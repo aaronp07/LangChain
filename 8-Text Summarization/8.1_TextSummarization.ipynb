{
 "cells": [
  {
   "cell_type": "markdown",
   "id": "efa0c669",
   "metadata": {},
   "source": [
    "### Normal Text Summarization"
   ]
  },
  {
   "cell_type": "code",
   "execution_count": 12,
   "id": "1aadc657",
   "metadata": {},
   "outputs": [],
   "source": [
    "from langchain_groq import ChatGroq\n",
    "import os\n",
    "from dotenv import load_dotenv\n",
    "\n",
    "load_dotenv()\n",
    "\n",
    "groq_api_key = os.getenv('GROQ_API_KEY') # API Key\n",
    "\n",
    "llm = ChatGroq(groq_api_key=groq_api_key, model_name='llama3-8b-8192')"
   ]
  },
  {
   "cell_type": "code",
   "execution_count": 3,
   "id": "4ed62ced",
   "metadata": {},
   "outputs": [],
   "source": [
    "speech=\"\"\"\n",
    "People across the country, involved in government, political, and social activities, are dedicating their time to make the ‘Viksit Bharat Sankalp Yatra’ (Developed India Resolution Journey) successful. Therefore, as a Member of Parliament, it was my responsibility to also contribute my time to this program. So, today, I have come here just as a Member of Parliament and your ‘sevak’, ready to participate in this program, much like you.\n",
    "\n",
    "In our country, governments have come and gone, numerous schemes have been formulated, discussions have taken place, and big promises have been made. However, my experience and observations led me to believe that the most critical aspect that requires attention is ensuring that the government’s plans reach the intended beneficiaries without any hassles. If there is a ‘Pradhan Mantri Awas Yojana’ (Prime Minister’s housing scheme), then those who are living in jhuggis and slums should get their houses. And he should not need to make rounds of the government offices for this purpose. The government should reach him. Since you have assigned this responsibility to me, about four crore families have got their ‘pucca’ houses. However, I have encountered cases where someone is left out of the government benefits. Therefore, I have decided to tour the country again, to listen to people’s experiences with government schemes, to understand whether they received the intended benefits, and to ensure that the programs are reaching everyone as planned without paying any bribes. We will get the real picture if we visit them again. Therefore, this ‘Viksit Bharat Sankalp Yatra’ is, in a way, my own examination. I want to hear from you and the people across the country whether what I envisioned and the work I have been doing aligns with reality and whether it has reached those for whom it was meant.\n",
    "\n",
    "It is crucial to check whether the work that was supposed to happen has indeed taken place. I recently met some individuals who utilized the Ayushman card to get treatment for serious illnesses. One person met with a severe accident, and after using the card, he could afford the necessary operation, and now he is recovering well. When I asked him, he said: “How could I afford this treatment? Now that there is the Ayushman card, I mustered courage and underwent an operation. Now I am perfectly fine.”  Such stories are blessings to me.\n",
    "\n",
    "The bureaucrats, who prepare good schemes, expedite the paperwork and even allocate funds, also feel satisfied that 50 or 100 people who were supposed to get the funds have got it. The funds meant for a thousand villages have been released. But their job satisfaction peaks when they hear that their work has directly impacted someone’s life positively. When they see the tangible results of their efforts, their enthusiasm multiplies. They feel satisfied. Therefore, ‘Viksit Bharat Sankalp Yatra’ has had a positive impact on government officers. It has made them more enthusiastic about their work, especially when they witness the tangible benefits reaching the people. Officers now feel satisfied with their work, saying, “I made a good plan, I created a file, and the intended beneficiaries received the benefits.” When they find that the money has reached a poor widow under the Jeevan Jyoti scheme and it was a great help to her during her crisis, they realise that they have done a good job. When a government officer listens to such stories, he feels very satisfied.\n",
    "\n",
    "There are very few who understand the power and impact of the ‘Viksit Bharat Sankalp Yatra’. When I hear people connected to bureaucratic circles talking about it, expressing their satisfaction, it resonates with me. I’ve heard stories where someone suddenly received 2 lakh rupees after the death of her husband, and a sister mentioned how the arrival of gas in her home transformed her lives. The most significant aspect is when someone says that the line between rich and poor has vanished. While the slogan ‘Garibi Hatao’ (Remove Poverty) is one thing, but the real change happens when a person says, “As soon as the gas stove came to my house, the distinction between poverty and affluence disappeared.\n",
    "\"\"\""
   ]
  },
  {
   "cell_type": "code",
   "execution_count": 4,
   "id": "db4e59ee",
   "metadata": {},
   "outputs": [],
   "source": [
    "from langchain.schema import (SystemMessage, HumanMessage, AIMessage)\n",
    "\n",
    "chat_message = [\n",
    "    SystemMessage(content=\"You are expert with exprise in summarizing speeched\"),\n",
    "    HumanMessage(content=f\"Please provide a short and concisse summary of the following speech:\\n Text: {speech}\")\n",
    "]"
   ]
  },
  {
   "cell_type": "code",
   "execution_count": 5,
   "metadata": {},
   "outputs": [
    {
     "name": "stderr",
     "output_type": "stream",
     "text": [
      "c:\\Users\\LENOVO\\OneDrive\\Desktop\\Project\\GenAI\\LangChain\\venv\\lib\\site-packages\\tqdm\\auto.py:21: TqdmWarning: IProgress not found. Please update jupyter and ipywidgets. See https://ipywidgets.readthedocs.io/en/stable/user_install.html\n",
      "  from .autonotebook import tqdm as notebook_tqdm\n"
     ]
    },
    {
     "data": {
      "text/plain": [
       "909"
      ]
     },
     "execution_count": 5,
     "metadata": {},
     "output_type": "execute_result"
    }
   ],
   "source": [
    "llm.get_num_tokens(speech)"
   ]
  },
  {
   "cell_type": "code",
   "execution_count": null,
   "id": "9f455b3a",
   "metadata": {},
   "outputs": [
    {
     "data": {
      "text/plain": [
       "AIMessage(content='Here is a concise summary of the speech:\\n\\nThe speaker, a Member of Parliament, has joined the \"Viksit Bharat Sankalp Yatra\" to ensure that government schemes reach their intended beneficiaries without hindrance. He believes that past governments have failed to deliver benefits to those who need them most. The speaker has achieved success in implementing the Pradhan Mantri Awas Yojana, providing \"pucca\" houses to 4 crore families. However, he has also seen instances where people are left out of benefits. The \"Viksit Bharat Sankalp Yatra\" is an examination of government schemes, aiming to ensure they reach everyone as planned. The speaker shares inspiring stories of individuals who have benefited from government programs, such as the Ayushman card, and how it has positively impacted government officers. He emphasizes the importance of tangible results and feels satisfied when he hears stories of people\\'s lives being positively impacted by government schemes.', additional_kwargs={}, response_metadata={'token_usage': {'completion_tokens': 195, 'prompt_tokens': 908, 'total_tokens': 1103, 'completion_time': 0.145183368, 'prompt_time': 0.100478824, 'queue_time': 0.273593643, 'total_time': 0.245662192}, 'model_name': 'llama3-8b-8192', 'system_fingerprint': 'fp_6d1c2b0784', 'finish_reason': 'stop', 'logprobs': None}, id='run--8d47a70f-ce51-416b-bf2e-905f7f6756f8-0', usage_metadata={'input_tokens': 908, 'output_tokens': 195, 'total_tokens': 1103})"
      ]
     },
     "execution_count": 15,
     "metadata": {},
     "output_type": "execute_result"
    }
   ],
   "source": [
    "# Getting Summary of context\n",
    "\n",
    "llm.invoke(chat_message)"
   ]
  },
  {
   "cell_type": "markdown",
   "id": "50a631bb",
   "metadata": {},
   "source": [
    "### Prompt Template Text Summarization"
   ]
  },
  {
   "cell_type": "code",
   "execution_count": 16,
   "id": "ab65fba5",
   "metadata": {},
   "outputs": [],
   "source": [
    "from langchain.chains import LLMChain\n",
    "from langchain import PromptTemplate\n",
    "\n",
    "generic_template = \"\"\"\n",
    "Write a summary of the following speech:\n",
    "Speech: {speech}\n",
    "Translate the precise of summary to {language}\n",
    "\"\"\"\n",
    "\n",
    "prompt = PromptTemplate(\n",
    "    input_variables=['speech', 'language'],\n",
    "    template=generic_template\n",
    ")"
   ]
  },
  {
   "cell_type": "code",
   "execution_count": null,
   "id": "99f141f9",
   "metadata": {},
   "outputs": [],
   "source": [
    "# Prompt format\n",
    "complete_prompt = prompt.format(speech=speech, language='French')"
   ]
  },
  {
   "cell_type": "code",
   "execution_count": 21,
   "id": "40696c56",
   "metadata": {},
   "outputs": [
    {
     "data": {
      "text/plain": [
       "{'speech': '\\nPeople across the country, involved in government, political, and social activities, are dedicating their time to make the ‘Viksit Bharat Sankalp Yatra’ (Developed India Resolution Journey) successful. Therefore, as a Member of Parliament, it was my responsibility to also contribute my time to this program. So, today, I have come here just as a Member of Parliament and your ‘sevak’, ready to participate in this program, much like you.\\n\\nIn our country, governments have come and gone, numerous schemes have been formulated, discussions have taken place, and big promises have been made. However, my experience and observations led me to believe that the most critical aspect that requires attention is ensuring that the government’s plans reach the intended beneficiaries without any hassles. If there is a ‘Pradhan Mantri Awas Yojana’ (Prime Minister’s housing scheme), then those who are living in jhuggis and slums should get their houses. And he should not need to make rounds of the government offices for this purpose. The government should reach him. Since you have assigned this responsibility to me, about four crore families have got their ‘pucca’ houses. However, I have encountered cases where someone is left out of the government benefits. Therefore, I have decided to tour the country again, to listen to people’s experiences with government schemes, to understand whether they received the intended benefits, and to ensure that the programs are reaching everyone as planned without paying any bribes. We will get the real picture if we visit them again. Therefore, this ‘Viksit Bharat Sankalp Yatra’ is, in a way, my own examination. I want to hear from you and the people across the country whether what I envisioned and the work I have been doing aligns with reality and whether it has reached those for whom it was meant.\\n\\nIt is crucial to check whether the work that was supposed to happen has indeed taken place. I recently met some individuals who utilized the Ayushman card to get treatment for serious illnesses. One person met with a severe accident, and after using the card, he could afford the necessary operation, and now he is recovering well. When I asked him, he said: “How could I afford this treatment? Now that there is the Ayushman card, I mustered courage and underwent an operation. Now I am perfectly fine.”  Such stories are blessings to me.\\n\\nThe bureaucrats, who prepare good schemes, expedite the paperwork and even allocate funds, also feel satisfied that 50 or 100 people who were supposed to get the funds have got it. The funds meant for a thousand villages have been released. But their job satisfaction peaks when they hear that their work has directly impacted someone’s life positively. When they see the tangible results of their efforts, their enthusiasm multiplies. They feel satisfied. Therefore, ‘Viksit Bharat Sankalp Yatra’ has had a positive impact on government officers. It has made them more enthusiastic about their work, especially when they witness the tangible benefits reaching the people. Officers now feel satisfied with their work, saying, “I made a good plan, I created a file, and the intended beneficiaries received the benefits.” When they find that the money has reached a poor widow under the Jeevan Jyoti scheme and it was a great help to her during her crisis, they realise that they have done a good job. When a government officer listens to such stories, he feels very satisfied.\\n\\nThere are very few who understand the power and impact of the ‘Viksit Bharat Sankalp Yatra’. When I hear people connected to bureaucratic circles talking about it, expressing their satisfaction, it resonates with me. I’ve heard stories where someone suddenly received 2 lakh rupees after the death of her husband, and a sister mentioned how the arrival of gas in her home transformed her lives. The most significant aspect is when someone says that the line between rich and poor has vanished. While the slogan ‘Garibi Hatao’ (Remove Poverty) is one thing, but the real change happens when a person says, “As soon as the gas stove came to my house, the distinction between poverty and affluence disappeared.\\n',\n",
       " 'language': 'French',\n",
       " 'text': 'Here is a summary of the speech and its translation to French:\\n\\n**Summary:**\\n\\nThe speaker, a Member of Parliament, has dedicated time to the \"Viksit Bharat Sankalp Yatra\" (Developed India Resolution Journey) to ensure that government schemes reach their intended beneficiaries without hassle. The speaker has seen firsthand the impact of government programs on people\\'s lives, such as a man who received treatment for a serious illness using the Ayushman card. The speaker believes that it is crucial to check whether government work has indeed taken place and is committed to listening to people\\'s experiences with government schemes. The \"Viksit Bharat Sankalp Yatra\" has had a positive impact on government officers, making them more enthusiastic about their work when they see tangible results.\\n\\n**Translation to French:**\\n\\nRésumé :\\n\\nLe speaker, membre du Parlement, a consacré du temps au \"Viksit Bharat Sankalp Yatra\" (voyage de résolution pour un Inde développée) pour s\\'assurer que les programmes gouvernementaux atteignent leurs bénéficiaires ciblés sans difficulté. Le speaker a vu à l\\'œuvre l\\'impact des programmes gouvernementaux sur la vie des gens, comme un homme qui a reçu un traitement pour une maladie grave en utilisant la carte Ayushman. Le speaker pense que c\\'est crucial de vérifier si le travail du gouvernement a effectivement eu lieu et est déterminé à écouter les expériences des gens avec les schemes gouvernementales. Le \"Viksit Bharat Sankalp Yatra\" a eu un impact positif sur les fonctionnaires gouvernementaux, les rendant plus enthousiastes à propos de leur travail lorsque ils voient des résultats tangibles.\\n\\nNote: Please note that translation is not an exact science, and different translations may vary slightly. This translation is intended to convey the general meaning and tone of the original text.'}"
      ]
     },
     "execution_count": 21,
     "metadata": {},
     "output_type": "execute_result"
    }
   ],
   "source": [
    "# LLM Chain\n",
    "llm_chain = LLMChain(llm=llm, prompt=prompt)\n",
    "summary = llm_chain({'speech': speech, 'language': 'French'})\n",
    "summary"
   ]
  },
  {
   "cell_type": "code",
   "execution_count": null,
   "id": "9fee3c55",
   "metadata": {},
   "outputs": [],
   "source": []
  },
  {
   "cell_type": "code",
   "execution_count": null,
   "id": "37f5967e",
   "metadata": {},
   "outputs": [],
   "source": []
  },
  {
   "cell_type": "code",
   "execution_count": null,
   "id": "927f4b2c",
   "metadata": {},
   "outputs": [],
   "source": []
  },
  {
   "cell_type": "code",
   "execution_count": null,
   "id": "4aa307fe",
   "metadata": {},
   "outputs": [],
   "source": []
  },
  {
   "cell_type": "code",
   "execution_count": null,
   "metadata": {},
   "outputs": [],
   "source": []
  },
  {
   "cell_type": "code",
   "execution_count": null,
   "id": "ede0747e",
   "metadata": {},
   "outputs": [],
   "source": []
  },
  {
   "cell_type": "code",
   "execution_count": null,
   "id": "727c7426",
   "metadata": {},
   "outputs": [],
   "source": []
  },
  {
   "cell_type": "code",
   "execution_count": null,
   "metadata": {},
   "outputs": [],
   "source": []
  }
 ],
 "metadata": {
  "kernelspec": {
   "display_name": "Python 3",
   "language": "python",
   "name": "python3"
  },
  "language_info": {
   "codemirror_mode": {
    "name": "ipython",
    "version": 3
   },
   "file_extension": ".py",
   "mimetype": "text/x-python",
   "name": "python",
   "nbconvert_exporter": "python",
   "pygments_lexer": "ipython3",
   "version": "3.10.18"
  }
 },
 "nbformat": 4,
 "nbformat_minor": 5
}
