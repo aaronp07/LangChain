{
 "cells": [
  {
   "cell_type": "markdown",
   "id": "dd332d74",
   "metadata": {},
   "source": [
    "### Vector Stores and Retrievers\n",
    "\n",
    "The familiarize you with LangChain's vector store and retriever abstractions. These abstrations are designed to support retrieval of data from (vector) databases and other sources for integration with LLM workflows. They are important for applications that fetch data to be reasoned over as part of model inference, as in the case of retrieval-augmented generation.\n",
    "\n",
    "* Documents\n",
    "* Vector Stores\n",
    "* Retrievers"
   ]
  },
  {
   "cell_type": "code",
   "execution_count": null,
   "id": "54919f11",
   "metadata": {},
   "outputs": [],
   "source": [
    "langchain==0.3.26\n",
    "langchain-groq==0.3.4\n",
    "langchain-chroma==0.1.4\n",
    "langchain-huggingface==0.2.0\n",
    "pydantic==2.11.7"
   ]
  },
  {
   "cell_type": "markdown",
   "id": "b23ef884",
   "metadata": {},
   "source": [
    "### Documents\n",
    "\n",
    "LangChain implements a Document abstraction, which is intended to represent a unit of text and associated metadata. It as two attributes:\n",
    "\n",
    "- page_content: a string representing the content.\n",
    "- metadata: a dict containing arbitrary metadata.\n",
    "    The metadata attribute can capture information about the source of the document, its relationship to other documents and other information. Note that an individual Document object often represents a chunk of a larger document.\n",
    "\n"
   ]
  },
  {
   "cell_type": "code",
   "execution_count": null,
   "id": "6d77c55b",
   "metadata": {},
   "outputs": [],
   "source": [
    "import os\n",
    "from dotenv import load_dotenv\n",
    "load_dotenv()\n",
    "from langchain_groq import ChatGroq\n",
    "\n",
    "groq_api_key = os.getenv('GROQ_API_KEY')\n",
    "os.environ['HF_TOKEN'] = os.getenv('HF_TOKEN')\n",
    "\n",
    "llm = ChatGroq(groq_api_key=groq_api_key, model='llama3-8b-8192')"
   ]
  },
  {
   "cell_type": "code",
   "execution_count": 8,
   "id": "30afe565",
   "metadata": {},
   "outputs": [
    {
     "name": "stderr",
     "output_type": "stream",
     "text": [
      "c:\\Users\\LENOVO\\OneDrive\\Desktop\\Project\\GenAI\\LangChain\\venv\\lib\\site-packages\\tqdm\\auto.py:21: TqdmWarning: IProgress not found. Please update jupyter and ipywidgets. See https://ipywidgets.readthedocs.io/en/stable/user_install.html\n",
      "  from .autonotebook import tqdm as notebook_tqdm\n"
     ]
    }
   ],
   "source": [
    "from langchain_huggingface import HuggingFaceEmbeddings\n",
    "\n",
    "embeddings = HuggingFaceEmbeddings(model_name='all-MiniLM-L6-v2') # Sentence "
   ]
  },
  {
   "cell_type": "code",
   "execution_count": null,
   "id": "c8bfd8eb",
   "metadata": {},
   "outputs": [],
   "source": [
    "\n",
    "from langchain_core.documents import Document\n",
    "\n",
    "# Load the document\n",
    "documents = [\n",
    "    Document(\n",
    "        page_content=\"Dogs are great companions, known for their loyalty and friendliness.\",\n",
    "        metadata={\"source\": \"mammal-pets-doc\"}\n",
    "    ),\n",
    "    Document(\n",
    "        page_content=\"Cats are independent pets that often enjoy their own space.\",\n",
    "        metadata={\"source\": \"mammal-pets-doc\"}\n",
    "    ),\n",
    "    Document(\n",
    "        page_content=\"Gold fish are popular pets for beginners, requiring relatively simple care.\",\n",
    "        metadata={\"source\": \"fish-pets-doc\"}\n",
    "    ),\n",
    "    Document(\n",
    "        page_content=\"Parrots are intelligent birds capable of mimicking human speech.\",\n",
    "        metadata={\"source\": \"bird-pets-doc\"}\n",
    "    ),\n",
    "    Document(\n",
    "        page_content=\"Rabbits are social animals that need plenty of space to hop around.\",\n",
    "        metadata={\"source\": \"mammal-pets-doc\"}\n",
    "    )\n",
    "]"
   ]
  },
  {
   "cell_type": "code",
   "execution_count": 9,
   "id": "05fe193c",
   "metadata": {},
   "outputs": [],
   "source": [
    "# Vector Stores\n",
    "from langchain_chroma import Chroma\n",
    "\n",
    "vectorstore = Chroma.from_documents(documents=documents, embedding=embeddings)"
   ]
  },
  {
   "cell_type": "code",
   "execution_count": 10,
   "id": "f993d85b",
   "metadata": {},
   "outputs": [
    {
     "data": {
      "text/plain": [
       "[Document(metadata={'source': 'mammal-pets-doc'}, page_content='Cats are independent pets that often enjoy their own space.'),\n",
       " Document(metadata={'source': 'mammal-pets-doc'}, page_content='Dogs are great companions, known for their loyalty and friendliness.'),\n",
       " Document(metadata={'source': 'mammal-pets-doc'}, page_content='Rabbits are social animals that need plenty of space to hop around.'),\n",
       " Document(metadata={'source': 'fish-pets-doc'}, page_content='Gold fish are popular pets for beginners, requiring relatively simple care.')]"
      ]
     },
     "execution_count": 10,
     "metadata": {},
     "output_type": "execute_result"
    }
   ],
   "source": [
    "# Await\n",
    "await vectorstore.asimilarity_search('cat')"
   ]
  },
  {
   "cell_type": "code",
   "execution_count": 11,
   "id": "987da566",
   "metadata": {},
   "outputs": [
    {
     "data": {
      "text/plain": [
       "[(Document(metadata={'source': 'mammal-pets-doc'}, page_content='Cats are independent pets that often enjoy their own space.'),\n",
       "  0.9351057410240173),\n",
       " (Document(metadata={'source': 'mammal-pets-doc'}, page_content='Dogs are great companions, known for their loyalty and friendliness.'),\n",
       "  1.5740898847579956),\n",
       " (Document(metadata={'source': 'mammal-pets-doc'}, page_content='Rabbits are social animals that need plenty of space to hop around.'),\n",
       "  1.5956902503967285),\n",
       " (Document(metadata={'source': 'fish-pets-doc'}, page_content='Gold fish are popular pets for beginners, requiring relatively simple care.'),\n",
       "  1.6560044288635254)]"
      ]
     },
     "execution_count": 11,
     "metadata": {},
     "output_type": "execute_result"
    }
   ],
   "source": [
    "# Score\n",
    "vectorstore.similarity_search_with_score('cat')"
   ]
  },
  {
   "cell_type": "markdown",
   "id": "973982ce",
   "metadata": {},
   "source": [
    "### Retrievers\n",
    "\n",
    "LangChain VectorStore objects do not sub class Runnable and so cannot immediately be integrated into LangChain Expression Language Chains.\n",
    "\n",
    "LangChain Retrievers are Runnables, so they implement a standard set of methods (e.g., synchronous and asynchronous invoke and batch operations) and are designed to be incorporated in LCEL chains.\n",
    "\n",
    "We can create a simple version of this ourselves, without sub classing Retriever. If we choose what method we wish to use to retrieve documents, we can create a runnable easily. Below we will build one around the similarity_search method"
   ]
  },
  {
   "cell_type": "code",
   "execution_count": 12,
   "id": "945f5a17",
   "metadata": {},
   "outputs": [
    {
     "data": {
      "text/plain": [
       "[[Document(metadata={'source': 'mammal-pets-doc'}, page_content='Cats are independent pets that often enjoy their own space.')],\n",
       " [Document(metadata={'source': 'mammal-pets-doc'}, page_content='Dogs are great companions, known for their loyalty and friendliness.')]]"
      ]
     },
     "execution_count": 12,
     "metadata": {},
     "output_type": "execute_result"
    }
   ],
   "source": [
    "# Runnable Lambda - Retriever\n",
    "from langchain_core.runnables import RunnableLambda\n",
    "\n",
    "retriever = RunnableLambda(vectorstore.similarity_search).bind(k=1) # k top value\n",
    "retriever.batch(['cat', 'dog'])"
   ]
  },
  {
   "cell_type": "markdown",
   "id": "55d49eb1",
   "metadata": {},
   "source": [
    "##### Vectore Store - Retriever\n",
    "\n",
    "Vector stores implement an as_retriever method that will generate a Retriever, specifically a VectorStoreRetriever. These retrievers include specific search_type and search_kwargs attributes that identify what methods of the underlying vectore store to call and how to parameterize them. For instance, we can replicate the above with following:"
   ]
  },
  {
   "cell_type": "code",
   "execution_count": 13,
   "id": "4ae636a2",
   "metadata": {},
   "outputs": [
    {
     "data": {
      "text/plain": [
       "[[Document(metadata={'source': 'mammal-pets-doc'}, page_content='Cats are independent pets that often enjoy their own space.')],\n",
       " [Document(metadata={'source': 'mammal-pets-doc'}, page_content='Dogs are great companions, known for their loyalty and friendliness.')]]"
      ]
     },
     "execution_count": 13,
     "metadata": {},
     "output_type": "execute_result"
    }
   ],
   "source": [
    "retriver_vectore = vectorstore.as_retriever(\n",
    "    search_type=\"similarity\",\n",
    "    search_kwargs={\"k\":1}\n",
    ")\n",
    "\n",
    "retriver_vectore.batch(['cat', 'dog'])"
   ]
  },
  {
   "cell_type": "code",
   "execution_count": 22,
   "id": "1e4a7a36",
   "metadata": {},
   "outputs": [
    {
     "name": "stdout",
     "output_type": "stream",
     "text": [
      "I apologize, but there is no information about rats in the provided context. The context only talks about rabbits being social animals that need space to hop around. There is no mention of rats.\n"
     ]
    }
   ],
   "source": [
    "from langchain_core.prompts import ChatPromptTemplate\n",
    "\n",
    "message = \"\"\"\n",
    "    Answer this question using the provided context only.\n",
    "    \n",
    "    {question}\n",
    "    \n",
    "    Context:\n",
    "    {context}\n",
    "\"\"\"\n",
    "\n",
    "prompt = ChatPromptTemplate.from_messages([('human', message)])\n",
    "\n",
    "rag_chain = {\"context\": retriver_vectore, \"question\": RunnablePassthrough()} | prompt | llm\n",
    "\n",
    "response = rag_chain.invoke('tell me about rat')\n",
    "print(response.content)\n"
   ]
  },
  {
   "cell_type": "code",
   "execution_count": null,
   "id": "d9fca772",
   "metadata": {},
   "outputs": [],
   "source": []
  },
  {
   "cell_type": "code",
   "execution_count": null,
   "id": "85a381ea",
   "metadata": {},
   "outputs": [],
   "source": []
  },
  {
   "cell_type": "code",
   "execution_count": null,
   "id": "188eca14",
   "metadata": {},
   "outputs": [],
   "source": []
  },
  {
   "cell_type": "code",
   "execution_count": null,
   "id": "46b9a15b",
   "metadata": {},
   "outputs": [],
   "source": []
  },
  {
   "cell_type": "code",
   "execution_count": null,
   "id": "bd1d3d3d",
   "metadata": {},
   "outputs": [],
   "source": []
  },
  {
   "cell_type": "code",
   "execution_count": null,
   "id": "17cb85a4",
   "metadata": {},
   "outputs": [],
   "source": []
  },
  {
   "cell_type": "code",
   "execution_count": null,
   "id": "850a0a37",
   "metadata": {},
   "outputs": [],
   "source": []
  }
 ],
 "metadata": {
  "kernelspec": {
   "display_name": "Python 3",
   "language": "python",
   "name": "python3"
  },
  "language_info": {
   "codemirror_mode": {
    "name": "ipython",
    "version": 3
   },
   "file_extension": ".py",
   "mimetype": "text/x-python",
   "name": "python",
   "nbconvert_exporter": "python",
   "pygments_lexer": "ipython3",
   "version": "3.10.18"
  }
 },
 "nbformat": 4,
 "nbformat_minor": 5
}
