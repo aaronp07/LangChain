{
 "cells": [
  {
   "cell_type": "markdown",
   "id": "6685ad15",
   "metadata": {},
   "source": [
    "## Hybrid Search LangChain"
   ]
  },
  {
   "cell_type": "code",
   "execution_count": 15,
   "id": "30251b9f",
   "metadata": {},
   "outputs": [
    {
     "name": "stdout",
     "output_type": "stream",
     "text": [
      "Collecting pinecone\n",
      "  Downloading pinecone-7.3.0-py3-none-any.whl.metadata (9.5 kB)\n",
      "Requirement already satisfied: pinecone-text in c:\\users\\lenovo\\onedrive\\desktop\\project\\genai\\langchain\\venv\\lib\\site-packages (0.10.0)\n",
      "Requirement already satisfied: pinecone-notebooks in c:\\users\\lenovo\\onedrive\\desktop\\project\\genai\\langchain\\venv\\lib\\site-packages (0.1.1)\n",
      "Requirement already satisfied: certifi>=2019.11.17 in c:\\users\\lenovo\\onedrive\\desktop\\project\\genai\\langchain\\venv\\lib\\site-packages (from pinecone) (2025.6.15)\n",
      "Collecting pinecone-plugin-assistant<2.0.0,>=1.6.0 (from pinecone)\n",
      "  Downloading pinecone_plugin_assistant-1.7.0-py3-none-any.whl.metadata (28 kB)\n",
      "Requirement already satisfied: pinecone-plugin-interface<0.0.8,>=0.0.7 in c:\\users\\lenovo\\onedrive\\desktop\\project\\genai\\langchain\\venv\\lib\\site-packages (from pinecone) (0.0.7)\n",
      "Requirement already satisfied: python-dateutil>=2.5.3 in c:\\users\\lenovo\\onedrive\\desktop\\project\\genai\\langchain\\venv\\lib\\site-packages (from pinecone) (2.9.0.post0)\n",
      "Requirement already satisfied: typing-extensions>=3.7.4 in c:\\users\\lenovo\\onedrive\\desktop\\project\\genai\\langchain\\venv\\lib\\site-packages (from pinecone) (4.14.0)\n",
      "Requirement already satisfied: urllib3>=1.26.0 in c:\\users\\lenovo\\onedrive\\desktop\\project\\genai\\langchain\\venv\\lib\\site-packages (from pinecone) (2.5.0)\n",
      "Collecting packaging<25.0,>=24.2 (from pinecone-plugin-assistant<2.0.0,>=1.6.0->pinecone)\n",
      "  Using cached packaging-24.2-py3-none-any.whl.metadata (3.2 kB)\n",
      "Requirement already satisfied: requests<3.0.0,>=2.32.3 in c:\\users\\lenovo\\onedrive\\desktop\\project\\genai\\langchain\\venv\\lib\\site-packages (from pinecone-plugin-assistant<2.0.0,>=1.6.0->pinecone) (2.32.4)\n",
      "Requirement already satisfied: charset_normalizer<4,>=2 in c:\\users\\lenovo\\onedrive\\desktop\\project\\genai\\langchain\\venv\\lib\\site-packages (from requests<3.0.0,>=2.32.3->pinecone-plugin-assistant<2.0.0,>=1.6.0->pinecone) (3.4.2)\n",
      "Requirement already satisfied: idna<4,>=2.5 in c:\\users\\lenovo\\onedrive\\desktop\\project\\genai\\langchain\\venv\\lib\\site-packages (from requests<3.0.0,>=2.32.3->pinecone-plugin-assistant<2.0.0,>=1.6.0->pinecone) (3.10)\n",
      "Requirement already satisfied: mmh3<5.0.0,>=4.1.0 in c:\\users\\lenovo\\onedrive\\desktop\\project\\genai\\langchain\\venv\\lib\\site-packages (from pinecone-text) (4.1.0)\n",
      "Requirement already satisfied: nltk<4.0.0,>=3.9.1 in c:\\users\\lenovo\\onedrive\\desktop\\project\\genai\\langchain\\venv\\lib\\site-packages (from pinecone-text) (3.9.1)\n",
      "Requirement already satisfied: numpy<2.0,>=1.21.5 in c:\\users\\lenovo\\onedrive\\desktop\\project\\genai\\langchain\\venv\\lib\\site-packages (from pinecone-text) (1.26.4)\n",
      "Requirement already satisfied: python-dotenv<2.0.0,>=1.0.1 in c:\\users\\lenovo\\onedrive\\desktop\\project\\genai\\langchain\\venv\\lib\\site-packages (from pinecone-text) (1.1.1)\n",
      "Requirement already satisfied: types-requests<3.0.0,>=2.25.0 in c:\\users\\lenovo\\onedrive\\desktop\\project\\genai\\langchain\\venv\\lib\\site-packages (from pinecone-text) (2.32.4.20250611)\n",
      "Requirement already satisfied: click in c:\\users\\lenovo\\onedrive\\desktop\\project\\genai\\langchain\\venv\\lib\\site-packages (from nltk<4.0.0,>=3.9.1->pinecone-text) (8.2.1)\n",
      "Requirement already satisfied: joblib in c:\\users\\lenovo\\onedrive\\desktop\\project\\genai\\langchain\\venv\\lib\\site-packages (from nltk<4.0.0,>=3.9.1->pinecone-text) (1.5.1)\n",
      "Requirement already satisfied: regex>=2021.8.3 in c:\\users\\lenovo\\onedrive\\desktop\\project\\genai\\langchain\\venv\\lib\\site-packages (from nltk<4.0.0,>=3.9.1->pinecone-text) (2024.11.6)\n",
      "Requirement already satisfied: tqdm in c:\\users\\lenovo\\onedrive\\desktop\\project\\genai\\langchain\\venv\\lib\\site-packages (from nltk<4.0.0,>=3.9.1->pinecone-text) (4.67.1)\n",
      "Requirement already satisfied: six>=1.5 in c:\\users\\lenovo\\onedrive\\desktop\\project\\genai\\langchain\\venv\\lib\\site-packages (from python-dateutil>=2.5.3->pinecone) (1.17.0)\n",
      "Requirement already satisfied: colorama in c:\\users\\lenovo\\onedrive\\desktop\\project\\genai\\langchain\\venv\\lib\\site-packages (from click->nltk<4.0.0,>=3.9.1->pinecone-text) (0.4.6)\n",
      "Downloading pinecone-7.3.0-py3-none-any.whl (587 kB)\n",
      "   ---------------------------------------- 0.0/587.6 kB ? eta -:--:--\n",
      "   ---------------------------------------- 587.6/587.6 kB 3.0 MB/s eta 0:00:00\n",
      "Downloading pinecone_plugin_assistant-1.7.0-py3-none-any.whl (239 kB)\n",
      "Using cached packaging-24.2-py3-none-any.whl (65 kB)\n",
      "Installing collected packages: packaging, pinecone-plugin-assistant, pinecone\n",
      "\n",
      "  Attempting uninstall: packaging\n",
      "\n",
      "    Found existing installation: packaging 23.2\n",
      "\n",
      "    Uninstalling packaging-23.2:\n",
      "\n",
      "      Successfully uninstalled packaging-23.2\n",
      "\n",
      "   ---------------------------------------- 0/3 [packaging]\n",
      "   ---------------------------------------- 0/3 [packaging]\n",
      "   ------------- -------------------------- 1/3 [pinecone-plugin-assistant]\n",
      "   ------------- -------------------------- 1/3 [pinecone-plugin-assistant]\n",
      "   ------------- -------------------------- 1/3 [pinecone-plugin-assistant]\n",
      "   ------------- -------------------------- 1/3 [pinecone-plugin-assistant]\n",
      "   ------------- -------------------------- 1/3 [pinecone-plugin-assistant]\n",
      "   ------------- -------------------------- 1/3 [pinecone-plugin-assistant]\n",
      "   ------------- -------------------------- 1/3 [pinecone-plugin-assistant]\n",
      "   ------------- -------------------------- 1/3 [pinecone-plugin-assistant]\n",
      "   ------------- -------------------------- 1/3 [pinecone-plugin-assistant]\n",
      "   -------------------------- ------------- 2/3 [pinecone]\n",
      "   -------------------------- ------------- 2/3 [pinecone]\n",
      "   -------------------------- ------------- 2/3 [pinecone]\n",
      "   -------------------------- ------------- 2/3 [pinecone]\n",
      "   -------------------------- ------------- 2/3 [pinecone]\n",
      "   -------------------------- ------------- 2/3 [pinecone]\n",
      "   -------------------------- ------------- 2/3 [pinecone]\n",
      "   -------------------------- ------------- 2/3 [pinecone]\n",
      "   -------------------------- ------------- 2/3 [pinecone]\n",
      "   -------------------------- ------------- 2/3 [pinecone]\n",
      "   -------------------------- ------------- 2/3 [pinecone]\n",
      "   -------------------------- ------------- 2/3 [pinecone]\n",
      "   -------------------------- ------------- 2/3 [pinecone]\n",
      "   -------------------------- ------------- 2/3 [pinecone]\n",
      "   -------------------------- ------------- 2/3 [pinecone]\n",
      "   -------------------------- ------------- 2/3 [pinecone]\n",
      "   -------------------------- ------------- 2/3 [pinecone]\n",
      "   -------------------------- ------------- 2/3 [pinecone]\n",
      "   -------------------------- ------------- 2/3 [pinecone]\n",
      "   -------------------------- ------------- 2/3 [pinecone]\n",
      "   -------------------------- ------------- 2/3 [pinecone]\n",
      "   -------------------------- ------------- 2/3 [pinecone]\n",
      "   -------------------------- ------------- 2/3 [pinecone]\n",
      "   -------------------------- ------------- 2/3 [pinecone]\n",
      "   -------------------------- ------------- 2/3 [pinecone]\n",
      "   -------------------------- ------------- 2/3 [pinecone]\n",
      "   -------------------------- ------------- 2/3 [pinecone]\n",
      "   -------------------------- ------------- 2/3 [pinecone]\n",
      "   -------------------------- ------------- 2/3 [pinecone]\n",
      "   ---------------------------------------- 3/3 [pinecone]\n",
      "\n",
      "Successfully installed packaging-24.2 pinecone-7.3.0 pinecone-plugin-assistant-1.7.0\n"
     ]
    },
    {
     "name": "stderr",
     "output_type": "stream",
     "text": [
      "ERROR: pip's dependency resolver does not currently take into account all the packages that are installed. This behaviour is the source of the following dependency conflicts.\n",
      "chromadb 0.5.23 requires tokenizers<=0.20.3,>=0.13.2, but you have tokenizers 0.21.1 which is incompatible.\n",
      "langchain-openai 0.0.8 requires langchain-core<0.2.0,>=0.1.27, but you have langchain-core 0.3.66 which is incompatible.\n"
     ]
    }
   ],
   "source": [
    "!pip install pinecone pinecone-text pinecone-notebooks"
   ]
  },
  {
   "cell_type": "code",
   "execution_count": 12,
   "id": "eb497233",
   "metadata": {},
   "outputs": [],
   "source": [
    "import os\n",
    "from dotenv import load_dotenv\n",
    "\n",
    "load_dotenv()\n",
    "\n",
    "api_key = os.getenv('PINECONE_API_KEY')"
   ]
  },
  {
   "cell_type": "code",
   "execution_count": 16,
   "id": "dade055e",
   "metadata": {},
   "outputs": [],
   "source": [
    "from langchain_community.retrievers import PineconeHybridSearchRetriever\n",
    "from pinecone import Pinecone, ServerlessSpec\n",
    "\n",
    "index_name = 'hybrid-search-langchain-pinecone'\n",
    "\n",
    "# Initialize the Pinecone client\n",
    "pc = Pinecone(api_key=api_key)\n",
    "\n",
    "# Create the index\n",
    "if index_name not in pc.list_indexes().names():\n",
    "    pc.create_index(\n",
    "        name = index_name,\n",
    "        dimension = 384, # Dimension of dense vector\n",
    "        metric = 'dotproduct', # Sparse values supported only for dotproduct\n",
    "        spec = ServerlessSpec(cloud='aws', region='us-east-1')\n",
    "    )"
   ]
  },
  {
   "cell_type": "code",
   "execution_count": 17,
   "id": "61a319e4",
   "metadata": {},
   "outputs": [
    {
     "name": "stderr",
     "output_type": "stream",
     "text": [
      "c:\\Users\\LENOVO\\OneDrive\\Desktop\\Project\\GenAI\\LangChain\\venv\\lib\\site-packages\\tqdm\\auto.py:21: TqdmWarning: IProgress not found. Please update jupyter and ipywidgets. See https://ipywidgets.readthedocs.io/en/stable/user_install.html\n",
      "  from .autonotebook import tqdm as notebook_tqdm\n"
     ]
    }
   ],
   "source": [
    "index = pc.Index(index_name)"
   ]
  },
  {
   "cell_type": "code",
   "execution_count": 19,
   "id": "173a943c",
   "metadata": {},
   "outputs": [],
   "source": [
    "# Vector Embedding and Sparse matrix\n",
    "from langchain_huggingface import HuggingFaceEmbeddings\n",
    "\n",
    "os.environ['HF_TOKEN'] = os.getenv('HF_TOKEN')\n",
    "embeddings = HuggingFaceEmbeddings(model_name='all-MiniLM-L6-v2')"
   ]
  },
  {
   "cell_type": "code",
   "execution_count": 20,
   "id": "3905e405",
   "metadata": {},
   "outputs": [],
   "source": [
    "from pinecone_text.sparse import BM25Encoder\n",
    "\n",
    "bm25_encoder = BM25Encoder().default()"
   ]
  },
  {
   "cell_type": "code",
   "execution_count": 22,
   "id": "1e7b6570",
   "metadata": {},
   "outputs": [
    {
     "name": "stderr",
     "output_type": "stream",
     "text": [
      "100%|██████████| 3/3 [00:00<00:00, 33.12it/s]\n"
     ]
    }
   ],
   "source": [
    "sentences = [\n",
    "    'In 2024, I visited Paris',\n",
    "    'In 2023, I visited India',\n",
    "    'In 2022, I visited USA'\n",
    "]\n",
    "\n",
    "# TF IDF values on these sentence\n",
    "bm25_encoder.fit(sentences)\n",
    "\n",
    "# Store the values to a json files\n",
    "bm25_encoder.dump('bm25_values.json')\n",
    "\n",
    "# Load to your BM25Encoder object\n",
    "bm25_encoder = BM25Encoder().load('bm25_values.json')"
   ]
  },
  {
   "cell_type": "code",
   "execution_count": 23,
   "id": "909b5d89",
   "metadata": {},
   "outputs": [],
   "source": [
    "retriever = PineconeHybridSearchRetriever(embeddings=embeddings, sparse_encoder=bm25_encoder, index=index)"
   ]
  },
  {
   "cell_type": "code",
   "execution_count": 24,
   "id": "eb23c463",
   "metadata": {},
   "outputs": [
    {
     "name": "stderr",
     "output_type": "stream",
     "text": [
      "100%|██████████| 1/1 [00:02<00:00,  2.48s/it]\n"
     ]
    }
   ],
   "source": [
    "retriever.add_texts(sentences)"
   ]
  },
  {
   "cell_type": "code",
   "execution_count": 27,
   "id": "14fbcdd7",
   "metadata": {},
   "outputs": [
    {
     "data": {
      "text/plain": [
       "[Document(metadata={'score': 0.273100853}, page_content='In 2022, I visited USA'),\n",
       " Document(metadata={'score': 0.250942707}, page_content='In 2024, I visited Paris'),\n",
       " Document(metadata={'score': 0.25071764}, page_content='In 2023, I visited India')]"
      ]
     },
     "execution_count": 27,
     "metadata": {},
     "output_type": "execute_result"
    }
   ],
   "source": [
    "retriever.invoke('Where did i visited recently')"
   ]
  },
  {
   "cell_type": "code",
   "execution_count": null,
   "id": "c8f3d5fd",
   "metadata": {},
   "outputs": [],
   "source": []
  },
  {
   "cell_type": "code",
   "execution_count": null,
   "id": "9c0a2da1",
   "metadata": {},
   "outputs": [],
   "source": []
  }
 ],
 "metadata": {
  "kernelspec": {
   "display_name": "Python 3",
   "language": "python",
   "name": "python3"
  },
  "language_info": {
   "codemirror_mode": {
    "name": "ipython",
    "version": 3
   },
   "file_extension": ".py",
   "mimetype": "text/x-python",
   "name": "python",
   "nbconvert_exporter": "python",
   "pygments_lexer": "ipython3",
   "version": "3.10.18"
  }
 },
 "nbformat": 4,
 "nbformat_minor": 5
}
